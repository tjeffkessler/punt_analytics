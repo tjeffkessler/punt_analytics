{
 "cells": [
  {
   "cell_type": "markdown",
   "metadata": {},
   "source": [
    "# NFL Punt Analytics Report\n",
    "\n",
    "In an effort to crowdsource a solution for safer punt plays in professional (American) football games, the National Football League (NFL) has created a Kaggle competition seeking a data-backed proposal for punt-play rule changes. This follows a season where kickoff rules were changed to reduce concussions suffered during such plays. The top 4 proposals in this competition will be asked to present at NFL First & Future in Atlanta the day before the Super Bowl.\n",
    "\n",
    "## The Dataset\n",
    "\n",
    "The dataset provided by the NFL for this competition is actually a robust set of smaller datasets collected from the 2016 and 2017 NFL seasons. There are CSV files for the following information: \n",
    "\n",
    "   - Game Data \n",
    "   - Play Info \n",
    "   - Player Punt Data (Each player's traditional position) \n",
    "   - Play Player Role Data (Player role during punt plays) \n",
    "   - Video Review (Detailed injury play data) \n",
    "   - Next Generation Statistics (Positional and temporal data for extrapolating player speed/acceleration)\n",
    "\n",
    "The sum of these datasets is about 10 GB of data that can be concatenated on common columns such as Game Key, Play ID, and GSISID(PlayerID). Let's take a look at what they contain."
   ]
  },
  {
   "cell_type": "code",
   "execution_count": 1,
   "metadata": {},
   "outputs": [],
   "source": [
    "#Import the necessary libraries and modules\n",
    "import glob\n",
    "import numpy as np\n",
    "import pandas as pd\n",
    "import matplotlib.pyplot as plt\n",
    "import seaborn as sns\n",
    "\n",
    "from collections import Counter\n",
    "from dateutil import parser\n",
    "from io import StringIO\n",
    "from math import floor\n",
    "from matplotlib import animation\n",
    "from mpl_toolkits.mplot3d import Axes3D\n",
    "from scipy.stats import ttest_ind\n",
    "%matplotlib inline"
   ]
  },
  {
   "cell_type": "code",
   "execution_count": 2,
   "metadata": {},
   "outputs": [
    {
     "name": "stdout",
     "output_type": "stream",
     "text": [
      "Dataset: game_data.csv\n",
      "Record Count: 667\n",
      "Column Headers: GameKey,Season_Year,Season_Type,Week,Game_Date,Game_Day,Game_Site,Start_Time,Home_Team,HomeTeamCode,Visit_Team,VisitTeamCode,Stadium,StadiumType,Turf,GameWeather,Temperature,OutdoorWeather\n",
      "\n",
      "\n",
      "Dataset: NGS-2016-post.csv\n",
      "Record Count: 963325\n",
      "Column Headers: Season_Year,GameKey,PlayID,GSISID,Time,x,y,dis,o,dir,Event\n",
      "\n",
      "\n",
      "Dataset: NGS-2016-pre.csv\n",
      "Record Count: 6824902\n",
      "Column Headers: Season_Year,GameKey,PlayID,GSISID,Time,x,y,dis,o,dir,Event\n",
      "\n",
      "\n",
      "Dataset: NGS-2016-reg-wk1-6.csv\n",
      "Record Count: 8706353\n",
      "Column Headers: Season_Year,GameKey,PlayID,GSISID,Time,x,y,dis,o,dir,Event\n",
      "\n",
      "\n",
      "Dataset: NGS-2016-reg-wk13-17.csv\n",
      "Record Count: 7611810\n",
      "Column Headers: Season_Year,GameKey,PlayID,GSISID,Time,x,y,dis,o,dir,Event\n",
      "\n",
      "\n",
      "Dataset: NGS-2016-reg-wk7-12.csv\n",
      "Record Count: 8382660\n",
      "Column Headers: Season_Year,GameKey,PlayID,GSISID,Time,x,y,dis,o,dir,Event\n",
      "\n",
      "\n",
      "Dataset: NGS-2017-post.csv\n",
      "Record Count: 1037159\n",
      "Column Headers: Season_Year,GameKey,PlayID,GSISID,Time,x,y,dis,o,dir,Event\n",
      "\n",
      "\n",
      "Dataset: NGS-2017-pre.csv\n",
      "Record Count: 6609586\n",
      "Column Headers: Season_Year,GameKey,PlayID,GSISID,Time,x,y,dis,o,dir,Event\n",
      "\n",
      "\n",
      "Dataset: NGS-2017-reg-wk1-6.csv\n",
      "Record Count: 9433923\n",
      "Column Headers: Season_Year,GameKey,PlayID,GSISID,Time,x,y,dis,o,dir,Event\n",
      "\n",
      "\n",
      "Dataset: NGS-2017-reg-wk13-17.csv\n",
      "Record Count: 8252493\n",
      "Column Headers: Season_Year,GameKey,PlayID,GSISID,Time,x,y,dis,o,dir,Event\n",
      "\n",
      "\n",
      "Dataset: NGS-2017-reg-wk7-12.csv\n",
      "Record Count: 8670289\n",
      "Column Headers: Season_Year,GameKey,PlayID,GSISID,Time,x,y,dis,o,dir,Event\n",
      "\n",
      "\n",
      "Dataset: player_punt_data.csv\n",
      "Record Count: 3260\n",
      "Column Headers: GSISID,Number,Position\n",
      "\n",
      "\n",
      "Dataset: play_information.csv\n",
      "Record Count: 6682\n",
      "Column Headers: Season_Year,Season_Type,GameKey,Game_Date,Week,PlayID,Game_Clock,YardLine,Quarter,Play_Type,Poss_Team,Home_Team_Visit_Team,Score_Home_Visiting,PlayDescription\n",
      "\n",
      "\n",
      "Dataset: play_player_role_data.csv\n",
      "Record Count: 146574\n",
      "Column Headers: Season_Year,GameKey,PlayID,GSISID,Role\n",
      "\n",
      "\n",
      "Dataset: video_footage-control.csv\n",
      "Record Count: 38\n",
      "Column Headers: season,Season_Type,Week,Home_team,Visit_Team,Qtr,PlayDescription,gamekey,playid,Preview Link\n",
      "\n",
      "\n",
      "Dataset: video_footage-injury.csv\n",
      "Record Count: 38\n",
      "Column Headers: season,Type,Week,Home_team,Visit_Team,Qtr,PlayDescription,gamekey,playid,PREVIEW LINK (5000K)\n",
      "\n",
      "\n",
      "Dataset: video_review.csv\n",
      "Record Count: 38\n",
      "Column Headers: Season_Year,GameKey,PlayID,GSISID,Player_Activity_Derived,Turnover_Related,Primary_Impact_Type,Primary_Partner_GSISID,Primary_Partner_Activity_Derived,Friendly_Fire\n",
      "\n",
      "\n"
     ]
    }
   ],
   "source": [
    "#Set a for loop to iterate over each data file\n",
    "for path in glob.glob('*.csv'):\n",
    "    \n",
    "#Use a with statement to ensure files close upon completion. Set a count variable and a column header empty list.\n",
    "    with open(path) as f:\n",
    "        count = 0\n",
    "        columns = []\n",
    "        \n",
    "#Set up a reader to iterate over each row of the file. Append the first row to the column headers and keep track of count.\n",
    "        for row in f:\n",
    "            if count == 0:\n",
    "                columns.append(row)\n",
    "            count += 1\n",
    "            \n",
    "    print('Dataset: {}'.format(path))\n",
    "    print('Record Count: {}'.format(count))\n",
    "    print('Column Headers: {}\\n'.format(', '.join(columns)))"
   ]
  },
  {
   "cell_type": "markdown",
   "metadata": {},
   "source": [
    "Salient characteristics of these data files:\n",
    "\n",
    "- The sample of injury-producing plays is small (38) compared to the population of all punt plays (6,682).\n",
    "- The NGS files are too big to hold in memory as Pandas data frames and having copious positional and directional data points for each play they may be better suited to a machine learning algorithm.\n",
    "- To analyze the data to answer my questions, I will likely need to merge files along common columns.\n",
    "- Any merges performed with the video footage files will requires changing the column headers 'gamekey' and 'playid' to 'GameKey' and 'PlayID'.\n",
    "\n",
    "Columns of interest toward finding correlation with injuries:\n",
    "\n",
    "- Temperature\n",
    "- GameWeather\n",
    "- Turf\n",
    "- Role\n",
    "- Player_Activity_Derived\n",
    "- Primary_Impact_Type\n",
    "- Primary_Partner_Activity_Derived\n",
    "- Score_Home_Visiting\n",
    "\n",
    "Let's investigate these datasets to see the data quality."
   ]
  },
  {
   "cell_type": "code",
   "execution_count": 3,
   "metadata": {},
   "outputs": [
    {
     "data": {
      "text/plain": [
       "GameKey             0\n",
       "Season_Year         0\n",
       "Season_Type         0\n",
       "Week                0\n",
       "Game_Date           0\n",
       "Game_Day            0\n",
       "Game_Site           0\n",
       "Start_Time          0\n",
       "Home_Team           0\n",
       "HomeTeamCode        0\n",
       "Visit_Team          0\n",
       "VisitTeamCode       0\n",
       "Stadium             0\n",
       "StadiumType        38\n",
       "Turf                1\n",
       "GameWeather        98\n",
       "Temperature        66\n",
       "OutdoorWeather    254\n",
       "dtype: int64"
      ]
     },
     "execution_count": 3,
     "metadata": {},
     "output_type": "execute_result"
    }
   ],
   "source": [
    "#Import game data as a Pandas Data Frame\n",
    "gamedata_df = pd.read_csv('game_data.csv')\n",
    "\n",
    "#Check for NaN values\n",
    "gamedata_df.isna().sum()"
   ]
  },
  {
   "cell_type": "code",
   "execution_count": 4,
   "metadata": {},
   "outputs": [
    {
     "data": {
      "text/plain": [
       "GameKey             int64\n",
       "Season_Year         int64\n",
       "Season_Type        object\n",
       "Week                int64\n",
       "Game_Date          object\n",
       "Game_Day           object\n",
       "Game_Site          object\n",
       "Start_Time         object\n",
       "Home_Team          object\n",
       "HomeTeamCode       object\n",
       "Visit_Team         object\n",
       "VisitTeamCode      object\n",
       "Stadium            object\n",
       "StadiumType        object\n",
       "Turf               object\n",
       "GameWeather        object\n",
       "Temperature       float64\n",
       "OutdoorWeather     object\n",
       "dtype: object"
      ]
     },
     "execution_count": 4,
     "metadata": {},
     "output_type": "execute_result"
    }
   ],
   "source": [
    "#Check the types of the columns to determine how best to impute NaN values\n",
    "gamedata_df.dtypes"
   ]
  },
  {
   "cell_type": "markdown",
   "metadata": {},
   "source": [
    "## Dealing with NaN Values\n",
    "\n",
    "The three columns of interest in Game Data have NaN values. Temperature is a float type. Since there are 66 NaN values (nearly 10% of the dataset), I would like to fill the NaNs with the series mean. Before I do, I would like to know if any of the injury-producing plays is missing a temperature value, since that could add significant bias to the analysis. \n",
    "\n",
    "Turf and GameWeather are also missing values, however they are string objects and an Unknown value can be entered for any NaNs.This will not significantly impact the Turf analysis, but the GameWeather is missing around 15% of its values. "
   ]
  },
  {
   "cell_type": "code",
   "execution_count": 5,
   "metadata": {},
   "outputs": [
    {
     "data": {
      "text/plain": [
       "GameKey                              0\n",
       "Season_Year                          0\n",
       "Season_Type                          0\n",
       "Week                                 0\n",
       "Game_Date                            0\n",
       "Game_Day                             0\n",
       "Game_Site                            0\n",
       "Start_Time                           0\n",
       "Home_Team                            0\n",
       "HomeTeamCode                         0\n",
       "Visit_Team                           0\n",
       "VisitTeamCode                        0\n",
       "Stadium                              0\n",
       "StadiumType                          1\n",
       "Turf                                 0\n",
       "GameWeather                          3\n",
       "Temperature                          0\n",
       "OutdoorWeather                      14\n",
       "PlayID                               0\n",
       "GSISID                               0\n",
       "Player_Activity_Derived              0\n",
       "Turnover_Related                     0\n",
       "Primary_Impact_Type                  0\n",
       "Primary_Partner_GSISID               3\n",
       "Primary_Partner_Activity_Derived     2\n",
       "Friendly_Fire                        2\n",
       "dtype: int64"
      ]
     },
     "execution_count": 5,
     "metadata": {},
     "output_type": "execute_result"
    }
   ],
   "source": [
    "#Create a Data Frame of just injury producing games for comparison with all games\n",
    "injury_games_df = pd.merge(gamedata_df, pd.read_csv('video_review.csv'),\n",
    "                           on=['GameKey', 'Season_Year'], how='inner')\n",
    "injury_games_df.isna().sum()"
   ]
  },
  {
   "cell_type": "markdown",
   "metadata": {},
   "source": [
    "Here we see that NaN values in the Game Data columns of interest for injury-producing plays only exist in GameWeather (3 of 38). We can also see NaN values for the category of interest Primary_Partner_Activity_Derived (2 of 38). These NaNs can be safely filled with the string 'Unknown'."
   ]
  },
  {
   "cell_type": "code",
   "execution_count": 6,
   "metadata": {},
   "outputs": [],
   "source": [
    "#Replace temperature NaN values with the mean minus any decimal point precision\n",
    "gamedata_df['Temperature'].fillna(floor(np.mean(gamedata_df['Temperature'])), inplace=True)\n",
    "\n",
    "#Replace all NaNs in string columns with 'Unknown'\n",
    "gamedata_df.fillna('Unknown', inplace=True)"
   ]
  },
  {
   "cell_type": "code",
   "execution_count": 7,
   "metadata": {},
   "outputs": [
    {
     "data": {
      "text/plain": [
       "array(['Unknown', 'Sunny', 'Party Cloudy',\n",
       "       'Partly Cloudy, Chance of Rain 80%', 'Partly Cloudy', 'T-Storms',\n",
       "       'Cloudy', 'Mostly Cloudy', 'Hazy, hot and humid', 'Indoor',\n",
       "       'Clear and warm', 'Controlled Climate', 'Suny',\n",
       "       'Chance of Showers', 'Mostly Clear. Gusting ot 14.', 'Indoors',\n",
       "       'Mostly cloudy',\n",
       "       'Cloudy with Possible Stray Showers/Thundershowers',\n",
       "       'Mostly CLoudy', 'Clear', 'Partly sunny', 'Rain', 'Mostly Sunny',\n",
       "       'Sunny and Clear', 'Partly CLoudy',\n",
       "       'Cloudy, Humid, Chance of Rain', 'Sunny Intervals', 'Fair',\n",
       "       'Controlled', 'Sunny Skies', 'Partly Sunny', 'Sunny intervals',\n",
       "       'Clear Skies', 'Clear and cool', 'Cloudy with rain',\n",
       "       'Snow Showers, 3 to 5 inches expected.', 'Sunny and cool',\n",
       "       'Snow showers', 'Snow', 'Partly cloudy', 'Cloudy, steady temps',\n",
       "       'Cloudy, Rain', 'Cloudy and Cold', 'Cloudy with patches of fog',\n",
       "       'Scattered thunderstorms', 'Sunny and warm', 'cloudy',\n",
       "       'Light Rain', 'Partly cloudy, lows to upper 50s.', 'CLEAR',\n",
       "       'Sun & clouds', 'Mostly Coudy', 'Sunny, highs to upper 80s',\n",
       "       'Showers', '30% Chance of Rain',\n",
       "       'Cloudy with periods of rain, thunder possible. Winds shifting to WNW, 10-20 mph.',\n",
       "       'Cloudy, fog started developing in 2nd quarter', 'Coudy',\n",
       "       'Rain likely, temps in low 40s.', 'Cold', 'N/A (Indoors)',\n",
       "       'Clear skies', 'Cloudy, chance of rain', 'Heavy lake effect snow',\n",
       "       'Cloudy, light snow accumulating 1-3\"', 'Cloudy and cold', 'Hazy',\n",
       "       'Clear and Cold'], dtype=object)"
      ]
     },
     "execution_count": 7,
     "metadata": {},
     "output_type": "execute_result"
    }
   ],
   "source": [
    "#Check unique values for weather\n",
    "gamedata_df.GameWeather.unique()"
   ]
  },
  {
   "cell_type": "markdown",
   "metadata": {},
   "source": [
    "While much of the data was standardized, columns like GameWeather, Turf, and StadiumType have far too many values and non-standard inputs for what is essentially the same value. I will go through the process of reducing the number of values to something more manageable for visualization."
   ]
  },
  {
   "cell_type": "code",
   "execution_count": 8,
   "metadata": {},
   "outputs": [],
   "source": [
    "#Standardize and reduce the number of weather values\n",
    "nw = {}\n",
    "for value in gamedata_df.GameWeather.unique():\n",
    "    s = str(value).lower()\n",
    "    if 'snow' in s:\n",
    "        nw[value] = 'snow'\n",
    "    elif 'rain' in s or 'shower' in s and 'chance' not in s and 'possible' not in s:\n",
    "        nw[value] = 'rain'\n",
    "    elif 'cold' in s:\n",
    "        nw[value] = 'cold'\n",
    "    elif 'wind' in s or 'gust' in s:\n",
    "        nw[value] = 'windy'\n",
    "    elif 'sun' in s or 'clear' in s:\n",
    "        nw[value] = 'pleasant'\n",
    "    elif 'storm' in s:\n",
    "        nw[value] = 'stormy'\n",
    "    elif 'hot' in s:\n",
    "        nw[value] = 'hot'\n",
    "    elif 'fog' in s or 'haz' in s:\n",
    "        nw[value] = 'reduced visibility'\n",
    "    elif 'indoor' in s or 'control' in s:\n",
    "        nw[value] ='indoor'\n",
    "    elif 'unknown' in s:\n",
    "        continue\n",
    "    else:\n",
    "        nw[value] = 'cloudy/mixed'\n",
    "        \n",
    "gamedata_df['GameWeather'].replace(nw.keys(), nw.values(), inplace=True)"
   ]
  },
  {
   "cell_type": "code",
   "execution_count": 9,
   "metadata": {},
   "outputs": [],
   "source": [
    "#Standardize and reduce number of turf values\n",
    "nw = {}\n",
    "for value in gamedata_df.Turf.unique():\n",
    "    t = str(value).lower()\n",
    "    if 'grass' in t or 'nat' in t:\n",
    "        nw[value] = 'grass'\n",
    "    elif 'turf' in t:\n",
    "        nw[value] = 'turf'\n",
    "    elif 'art' in t or 'syn' in t:\n",
    "       nw[value] = 'artificial'\n",
    "    elif 'ubu' in t:\n",
    "        nw[value] = 'ubu_speed'\n",
    "    else:\n",
    "        nw[value] = 'other'\n",
    "        \n",
    "gamedata_df['Turf'].replace(nw.keys(), nw.values(), inplace=True)"
   ]
  },
  {
   "cell_type": "markdown",
   "metadata": {},
   "source": [
    "## Visualizing the Data\n",
    "\n",
    "Now that the data has been standardized, we can visualize the data and some statistics for the one column that contains numerical data. First, though, I am going to give assign a number to each string value so it is easier to plot. Then I need to merge the video_review file again with the updated game data frame to make comparisons. "
   ]
  },
  {
   "cell_type": "code",
   "execution_count": 10,
   "metadata": {},
   "outputs": [],
   "source": [
    "def num_category(df, col, name):\n",
    "    ''' Assign a number based on unique string values within a column to use for histogram\n",
    "    :param df: var, dataframe to operate on\n",
    "    :param col: str, existing dataframe column to categorize\n",
    "    :param name: str, name for new column with numerical categories'''\n",
    "    unq = np.unique(df[col]) \n",
    "    df[name] = [list(unq).index(v) for v in df[col]]\n",
    "    key_dict = {k:v for k, v in enumerate(unq)}\n",
    "    return df, key_dict"
   ]
  },
  {
   "cell_type": "code",
   "execution_count": 11,
   "metadata": {},
   "outputs": [],
   "source": [
    "gamedata_df, weather_dict = num_category(gamedata_df, 'GameWeather', 'weather')\n",
    "gamedata_df, turf_dict = num_category(gamedata_df, 'Turf', 'turf')"
   ]
  },
  {
   "cell_type": "code",
   "execution_count": 12,
   "metadata": {},
   "outputs": [],
   "source": [
    "#Merge the video review of injuries with updated game data df and fill NaNs in video_review\n",
    "injury_games_df = pd.merge(gamedata_df, pd.read_csv('video_review.csv'),\n",
    "                           on=['GameKey', 'Season_Year'], how='inner')\n",
    "injury_games_df.fillna('Unknown', inplace=True)"
   ]
  },
  {
   "cell_type": "code",
   "execution_count": 13,
   "metadata": {},
   "outputs": [],
   "source": [
    "def compare_hists(x1, x2, label1=None, label2=None, title1=None, title2=None, figsize=(10, 5)):\n",
    "    '''Create a plot with subplots of histograms for comparison\n",
    "    :param x: series or array-like, data to be plotted\n",
    "    :param label: series or list, labels for the data\n",
    "    :param title: string, values to fill in plot titles\n",
    "    :param figsize: tuple, length and height of plot'''\n",
    "    fig, (ax1, ax2) = plt.subplots(1, 2, figsize=figsize)\n",
    "    \n",
    "    \n",
    "    ax1.hist(x1)\n",
    "    if label1:\n",
    "        ax1.set_xticks(range(len(label1)))\n",
    "        ax1.set_xticklabels(label1, rotation='vertical')\n",
    "    if x1.dtype != 'object':\n",
    "        x_min, x_max = min(x1), max(x1)\n",
    "        ax1.set_xlim(x_min, x_max)\n",
    "    ax1.set_title('2016/17 Punts by {}'.format(title1))\n",
    "    \n",
    "    ax2.hist(x2, color='r')\n",
    "    if label2:\n",
    "        ax2.set_xticks(range(len(label2)))\n",
    "        ax2.set_xticklabels(label2, rotation='vertical')\n",
    "    if x2.dtype != 'object':\n",
    "        ax2.set_xlim(x_min,  x_max)\n",
    "    ax2.set_title('2016/17 Punts by {}'.format(title2))\n",
    "    return plt.show()\n",
    "    "
   ]
  },
  {
   "cell_type": "code",
   "execution_count": 14,
   "metadata": {},
   "outputs": [
    {
     "data": {
      "image/png": "[encoded data removed]",
      "text/plain": [
       "<Figure size 1440x720 with 2 Axes>"
      ]
     },
     "metadata": {},
     "output_type": "display_data"
    }
   ],
   "source": [
    "sns.set()\n",
    "compare_hists(gamedata_df['weather'], injury_games_df['weather'], label1=weather_dict.values(),\n",
    "              label2=weather_dict.values(), title1='Weather', title2='Weather (injury plays)',\n",
    "             figsize=(20, 10))"
   ]
  },
  {
   "cell_type": "markdown",
   "metadata": {},
   "source": [
    "On the left in blue, we see the distribution of all games by Game Weather. On the right, in red is the distribution of injury producing games by Game Weather. The distributions appear to be similar with a slight surplus of injuries in pleasant weather games."
   ]
  },
  {
   "cell_type": "code",
   "execution_count": 15,
   "metadata": {},
   "outputs": [
    {
     "data": {
      "image/png": "[encoded data removed]",
      "text/plain": [
       "<Figure size 1080x720 with 2 Axes>"
      ]
     },
     "metadata": {},
     "output_type": "display_data"
    },
    {
     "name": "stdout",
     "output_type": "stream",
     "text": [
      "Temperature Mean(total): 64.11861861861861  Standard Deviation: 17.605351234376982\n",
      "\n",
      "Temperature Mean(injury): 60.729729729729726  Standard Deviation: 21.001478260259283\n"
     ]
    }
   ],
   "source": [
    "compare_hists(gamedata_df['Temperature'], injury_games_df['Temperature'],\n",
    "              title1='Temperature', title2='Temperature (injury plays)',\n",
    "             figsize=(15, 10))\n",
    "print('Temperature Mean(total): {}  Standard Deviation: {}\\n'.format(np.mean(gamedata_df['Temperature']), np.std(gamedata_df['Temperature'])))\n",
    "print('Temperature Mean(injury): {}  Standard Deviation: {}'.format(np.mean(injury_games_df['Temperature']), np.std(injury_games_df['Temperature'])))"
   ]
  },
  {
   "cell_type": "markdown",
   "metadata": {},
   "source": [
    "The injury distribution by temperature appears right-biased compared to the distribution of all games. This is worth exploring with statistical tests for correlation."
   ]
  },
  {
   "cell_type": "code",
   "execution_count": 16,
   "metadata": {},
   "outputs": [
    {
     "data": {
      "image/png": "[encoded data removed]",
      "text/plain": [
       "<Figure size 720x360 with 2 Axes>"
      ]
     },
     "metadata": {},
     "output_type": "display_data"
    }
   ],
   "source": [
    "compare_hists(gamedata_df['turf'], injury_games_df['turf'], label1=turf_dict.values(), \n",
    "              label2=turf_dict.values(), title1='Turf', title2='Turf (injury plays)')"
   ]
  },
  {
   "cell_type": "markdown",
   "metadata": {},
   "source": [
    "Looking at the distributions based on the type of turf the games were played on, the injury-producing games almost perfectly match the distribution of all games."
   ]
  },
  {
   "cell_type": "markdown",
   "metadata": {},
   "source": [
    "## Question 1: Do environmental variables (weather, temperature, turf) play a significant factor in punt injuries?\n",
    "\n",
    "Having looked at the visual representations of these variables for the set of all plays and the subset of injury-producing plays, the distributions appeared to match up. Still, it is worth looking at some statistical tests for a more precise likelihood of correlation."
   ]
  },
  {
   "cell_type": "code",
   "execution_count": 17,
   "metadata": {},
   "outputs": [
    {
     "name": "stdout",
     "output_type": "stream",
     "text": [
      "Temperature T-Test: Ttest_indResult(statistic=-0.9502789757067102, pvalue=0.347854407196727)\n"
     ]
    }
   ],
   "source": [
    "#Perform T-Tests to determine the likelihood that the samples are representative of the same population\n",
    "print('Temperature T-Test: {}'.format(ttest_ind(injury_games_df['Temperature'], gamedata_df['Temperature'], equal_var=False)))"
   ]
  },
  {
   "cell_type": "markdown",
   "metadata": {},
   "source": [
    "According to the results of this t-test, there is not a large difference between the injury games temperature mean and that of the set of all games, scaled for standard error. The likelihood that this could come from the same population distribution is about 1 in 3, which would pass most p-value thresholds. According to these results, I conclude that temperature does not have a statistically significant correlation with injuries on punt plays."
   ]
  },
  {
   "cell_type": "markdown",
   "metadata": {},
   "source": [
    "## Question 2: Do injuries occur more often to players who fill certain roles?\n",
    "\n",
    "To answer this question, I want to see if the distribution of roles filled by players who get injured is significantly different from the total distribution of roles in punt plays all punt plays."
   ]
  },
  {
   "cell_type": "code",
   "execution_count": 19,
   "metadata": {
    "scrolled": true
   },
   "outputs": [
    {
     "data": {
      "text/plain": [
       "Season_Year    0\n",
       "GameKey        0\n",
       "PlayID         0\n",
       "GSISID         0\n",
       "Role           0\n",
       "role           0\n",
       "dtype: int64"
      ]
     },
     "execution_count": 19,
     "metadata": {},
     "output_type": "execute_result"
    }
   ],
   "source": [
    "#Import player role data by punt play into a Pandas Data Frame\n",
    "player_role_df = pd.read_csv('play_player_role_data.csv')\n",
    "\n",
    "#Create a Data Frame of just the players getting injured\n",
    "injured_role_df = pd.merge(player_role_df, pd.read_csv('video_review.csv'), how='inner', on=['Season_Year', 'GameKey', 'PlayID', 'GSISID'])\n",
    "\n",
    "#Check for NaNs \n",
    "player_role_df.isna().sum()"
   ]
  },
  {
   "cell_type": "code",
   "execution_count": 53,
   "metadata": {},
   "outputs": [],
   "source": [
    "#Create a column for percentage of total for each role, since the number of roles is too many to plot the count for each\n"
   ]
  },
  {
   "cell_type": "code",
   "execution_count": 21,
   "metadata": {},
   "outputs": [
    {
     "data": {
      "image/png": "[encoded data removed]",
      "text/plain": [
       "<Figure size 1440x720 with 2 Axes>"
      ]
     },
     "metadata": {},
     "output_type": "display_data"
    }
   ],
   "source": [
    "compare_hists(player_role_df['role'], injured_role_df['role'], label1=player_role_dict,\n",
    "              label2=player_role_dict, title1='Role', title2='Role (injury plays)', figsize=(20,10))"
   ]
  },
  {
   "cell_type": "code",
   "execution_count": null,
   "metadata": {},
   "outputs": [],
   "source": [
    "compare_hists(prole_inj_df['activity'], prole_inj_df['partner_activity'], title1='Injured Activity',\n",
    "              title2='Partner Activity')"
   ]
  },
  {
   "cell_type": "code",
   "execution_count": null,
   "metadata": {},
   "outputs": [],
   "source": [
    "compare_hists(prole_inj_df['impact'], prole_inj_df['friendly_fire'], title1='Impact Type',\n",
    "              title2='Friendly Fire')"
   ]
  },
  {
   "cell_type": "code",
   "execution_count": null,
   "metadata": {},
   "outputs": [],
   "source": [
    "#Create a Data Frame from select columns of the injury games Data Frame\n",
    "pig_df = injury_games_df[['GameKey', 'Season_Year', 'Season_Type', 'Week', 'PlayID']]\n",
    "pig_df.head()"
   ]
  },
  {
   "cell_type": "code",
   "execution_count": null,
   "metadata": {},
   "outputs": [],
   "source": [
    "#Create a 2 dimensional array that holds the SeasonType, Week range, Season_Year,\n",
    "#GameKey, and PlayID for each play to iterate through NGS files and select rows\n",
    "pig_array = []\n",
    "for index, row in pig_df.iterrows():\n",
    "    st  = row['Season_Type'].lower()\n",
    "    wk = row['Week']\n",
    "    if st == 'reg':\n",
    "        if wk <= 6:\n",
    "            wk = '-wk1-6'\n",
    "        elif 6 < wk <= 12:\n",
    "            wk  = '-wk7-12'\n",
    "        else:\n",
    "            wk = '-wk13-17'\n",
    "    else:\n",
    "        wk = ''\n",
    "    sy = str(row['Season_Year'])\n",
    "    gk = str(row['GameKey'])\n",
    "    pid = str(row['PlayID'])\n",
    "    pig_array.append([st, wk, sy, gk, pid])"
   ]
  },
  {
   "cell_type": "code",
   "execution_count": null,
   "metadata": {
    "scrolled": true
   },
   "outputs": [],
   "source": [
    "#Iterate through NGS files by injury producing to create an injury NGS Data Frane\n",
    "#Set s as a StringIO object to hold lines from each file in memory to create a Data Frame\n",
    "i = 0\n",
    "s = StringIO()\n",
    "\n",
    "for i in range(len(pig_array)):\n",
    "    path = 'NGS-{}-{}{}.csv'.format(pig_array[i][2], pig_array[i][0], pig_array[i][1])\n",
    "    start_seq = ','.join(pig_array[i][2:])\n",
    "\n",
    "    with open(path) as f:\n",
    "        for line in f:\n",
    "            if i==0:\n",
    "                s.write(line)\n",
    "                i+=1\n",
    "            elif line.startswith(start_seq):\n",
    "                s.write(line)\n",
    "        \n",
    "s.seek(0)\n",
    "ngs_df = pd.read_csv(s)\n",
    "ngs_df.head()"
   ]
  },
  {
   "cell_type": "code",
   "execution_count": null,
   "metadata": {},
   "outputs": [],
   "source": [
    "# Set the index to the PlayID and don't drop\n",
    "ngs_df.set_index(keys=['PlayID'], drop=False, inplace=True)\n",
    "# Get a list of plays\n",
    "plays = ngs_df['PlayID'].unique().tolist()\n",
    "ngs_df.head()"
   ]
  },
  {
   "cell_type": "code",
   "execution_count": null,
   "metadata": {},
   "outputs": [],
   "source": [
    "#Get stats for the first play\n",
    "gm1 = ngs_df.loc[ngs_df.index==3129]\n",
    "#gm1 = gm1.loc[gm1.GSISID==31057]\n",
    "#min_tm = datetime.strptime(gm1['Time'].min(), %Y-%M-%d %H:%M:%S)\n",
    "#gm1['Time'] = gm1[datetime.strptime(gm1['Time'], %Y-%M-%d %H:%M:%S) - min_tm]\n",
    "\n",
    "#Parse the time as a datetime object and subject from the intial time to get elapsed time\n",
    "min_tm = parser.parse(gm1['Time'].min())\n",
    "gm1['Time'] = [parser.parse(time) - min_tm for time in gm1['Time']]\n",
    "\n",
    "\n",
    "#gm1.sort_values(by='Time', axis=1, inplace=True)\n",
    "gm1.tail()"
   ]
  },
  {
   "cell_type": "code",
   "execution_count": null,
   "metadata": {},
   "outputs": [],
   "source": [
    "gm1 = gm1.sort_values(by='Time')"
   ]
  },
  {
   "cell_type": "code",
   "execution_count": null,
   "metadata": {},
   "outputs": [],
   "source": [
    "gm1.tail()"
   ]
  },
  {
   "cell_type": "code",
   "execution_count": null,
   "metadata": {},
   "outputs": [],
   "source": [
    "fig = plt.figure()\n",
    "ax = fig.add_subplot(111, projection='3d')\n",
    "\n",
    "Axes3D.plot(ax, xs=gm1['x'], ys=gm1['y'], zs=gm1['Time'])"
   ]
  },
  {
   "cell_type": "code",
   "execution_count": null,
   "metadata": {},
   "outputs": [],
   "source": [
    "# First set up the figure, the axis, and the plot element we want to animate\n",
    "fig = plt.figure()\n",
    "ax = plt.axes(xlim=(0, 120), ylim=(0, 60))\n",
    "line, = ax.plot([], [], lw=2)\n",
    "\n",
    "# initialization function: plot the background of each frame\n",
    "def init():\n",
    "    line.set_data([], [])\n",
    "    return line,\n",
    "\n",
    "# animation function.  This is called sequentially\n",
    "def animate(i):\n",
    "    x = gm1['x'].iloc[i]\n",
    "    y = gm1['y'].iloc[i]\n",
    "    line.set_data(x, y)\n",
    "    return line,\n",
    "\n",
    "# call the animator.  blit=True means only re-draw the parts that have changed.\n",
    "anim = animation.FuncAnimation(fig, animate, init_func=init,\n",
    "                               frames=len(gm1), interval=20, blit=True)\n",
    "\n",
    "# save the animation as an mp4.  This requires ffmpeg or mencoder to be\n",
    "# installed.  The extra_args ensure that the x264 codec is used, so that\n",
    "# the video can be embedded in html5.  You may need to adjust this for\n",
    "# your system: for more information, see\n",
    "# http://matplotlib.sourceforge.net/api/animation_api.html\n",
    "anim.save('gm1_anim.mp4', fps=30, extra_args=['-vcodec', 'libx264'])\n",
    "\n",
    "plt.show()"
   ]
  },
  {
   "cell_type": "code",
   "execution_count": null,
   "metadata": {},
   "outputs": [],
   "source": []
  }
 ],
 "metadata": {
  "kernelspec": {
   "display_name": "Python 3",
   "language": "python",
   "name": "python3"
  },
  "language_info": {
   "codemirror_mode": {
    "name": "ipython",
    "version": 3
   },
   "file_extension": ".py",
   "mimetype": "text/x-python",
   "name": "python",
   "nbconvert_exporter": "python",
   "pygments_lexer": "ipython3",
   "version": "3.7.0"
  }
 },
 "nbformat": 4,
 "nbformat_minor": 2
}
